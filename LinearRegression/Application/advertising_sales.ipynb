{
 "cells": [
  {
   "cell_type": "code",
   "execution_count": 2,
   "metadata": {
    "collapsed": false
   },
   "outputs": [],
   "source": [
    "# coding:utf-8\n",
    "import numpy as np\n",
    "import pandas as pd\n",
    "import matplotlib as mpl\n",
    "import matplotlib.pyplot as plt\n",
    "from sklearn.model_selection import train_test_split,GridSearchCV\n",
    "from sklearn.linear_model import LinearRegression,Lasso,Ridge,RidgeCV,LassoCV,ElasticNetCV\n",
    "from sklearn.preprocessing import PolynomialFeatures\n",
    "import warnings\n",
    "%matplotlib inline\n",
    "warnings.filterwarnings(action='ignore') #不输出警告\n",
    "np.set_printoptions(suppress=True)"
   ]
  },
  {
   "cell_type": "code",
   "execution_count": 3,
   "metadata": {
    "collapsed": false
   },
   "outputs": [
    {
     "name": "stdout",
     "output_type": "stream",
     "text": [
      "        TV  Radio  Newspaper\n",
      "0    230.1   37.8       69.2\n",
      "1     44.5   39.3       45.1\n",
      "2     17.2   45.9       69.3\n",
      "3    151.5   41.3       58.5\n",
      "4    180.8   10.8       58.4\n",
      "5      8.7   48.9       75.0\n",
      "6     57.5   32.8       23.5\n",
      "7    120.2   19.6       11.6\n",
      "8      8.6    2.1        1.0\n",
      "9    199.8    2.6       21.2\n",
      "10    66.1    5.8       24.2\n",
      "11   214.7   24.0        4.0\n",
      "12    23.8   35.1       65.9\n",
      "13    97.5    7.6        7.2\n",
      "14   204.1   32.9       46.0\n",
      "15   195.4   47.7       52.9\n",
      "16    67.8   36.6      114.0\n",
      "17   281.4   39.6       55.8\n",
      "18    69.2   20.5       18.3\n",
      "19   147.3   23.9       19.1\n",
      "20   218.4   27.7       53.4\n",
      "21   237.4    5.1       23.5\n",
      "22    13.2   15.9       49.6\n",
      "23   228.3   16.9       26.2\n",
      "24    62.3   12.6       18.3\n",
      "25   262.9    3.5       19.5\n",
      "26   142.9   29.3       12.6\n",
      "27   240.1   16.7       22.9\n",
      "28   248.8   27.1       22.9\n",
      "29    70.6   16.0       40.8\n",
      "..     ...    ...        ...\n",
      "170   50.0   11.6       18.4\n",
      "171  164.5   20.9       47.4\n",
      "172   19.6   20.1       17.0\n",
      "173  168.4    7.1       12.8\n",
      "174  222.4    3.4       13.1\n",
      "175  276.9   48.9       41.8\n",
      "176  248.4   30.2       20.3\n",
      "177  170.2    7.8       35.2\n",
      "178  276.7    2.3       23.7\n",
      "179  165.6   10.0       17.6\n",
      "180  156.6    2.6        8.3\n",
      "181  218.5    5.4       27.4\n",
      "182   56.2    5.7       29.7\n",
      "183  287.6   43.0       71.8\n",
      "184  253.8   21.3       30.0\n",
      "185  205.0   45.1       19.6\n",
      "186  139.5    2.1       26.6\n",
      "187  191.1   28.7       18.2\n",
      "188  286.0   13.9        3.7\n",
      "189   18.7   12.1       23.4\n",
      "190   39.5   41.1        5.8\n",
      "191   75.5   10.8        6.0\n",
      "192   17.2    4.1       31.6\n",
      "193  166.8   42.0        3.6\n",
      "194  149.7   35.6        6.0\n",
      "195   38.2    3.7       13.8\n",
      "196   94.2    4.9        8.1\n",
      "197  177.0    9.3        6.4\n",
      "198  283.6   42.0       66.2\n",
      "199  232.1    8.6        8.7\n",
      "\n",
      "[200 rows x 3 columns]\n",
      "0      22.1\n",
      "1      10.4\n",
      "2       9.3\n",
      "3      18.5\n",
      "4      12.9\n",
      "5       7.2\n",
      "6      11.8\n",
      "7      13.2\n",
      "8       4.8\n",
      "9      10.6\n",
      "10      8.6\n",
      "11     17.4\n",
      "12      9.2\n",
      "13      9.7\n",
      "14     19.0\n",
      "15     22.4\n",
      "16     12.5\n",
      "17     24.4\n",
      "18     11.3\n",
      "19     14.6\n",
      "20     18.0\n",
      "21     12.5\n",
      "22      5.6\n",
      "23     15.5\n",
      "24      9.7\n",
      "25     12.0\n",
      "26     15.0\n",
      "27     15.9\n",
      "28     18.9\n",
      "29     10.5\n",
      "       ... \n",
      "170     8.4\n",
      "171    14.5\n",
      "172     7.6\n",
      "173    11.7\n",
      "174    11.5\n",
      "175    27.0\n",
      "176    20.2\n",
      "177    11.7\n",
      "178    11.8\n",
      "179    12.6\n",
      "180    10.5\n",
      "181    12.2\n",
      "182     8.7\n",
      "183    26.2\n",
      "184    17.6\n",
      "185    22.6\n",
      "186    10.3\n",
      "187    17.3\n",
      "188    15.9\n",
      "189     6.7\n",
      "190    10.8\n",
      "191     9.9\n",
      "192     5.9\n",
      "193    19.6\n",
      "194    17.3\n",
      "195     7.6\n",
      "196     9.7\n",
      "197    12.8\n",
      "198    25.5\n",
      "199    13.4\n",
      "Name: Sales, dtype: float64\n"
     ]
    }
   ],
   "source": [
    "data = pd.read_csv('Advertising.csv')\n",
    "x = data[['TV','Radio','Newspaper']]\n",
    "y = data['Sales']\n",
    "print(x)\n",
    "print(y)"
   ]
  },
  {
   "cell_type": "code",
   "execution_count": 4,
   "metadata": {
    "collapsed": false
   },
   "outputs": [
    {
     "name": "stdout",
     "output_type": "stream",
     "text": [
      "        TV  Radio  Newspaper\n",
      "122  224.0    2.4       15.6\n",
      "13    97.5    7.6        7.2\n",
      "167  206.8    5.2       19.4\n",
      "68   237.4   27.5       11.0\n",
      "60    53.5    2.0       21.4\n",
      "37    74.7   49.4       45.7\n",
      "3    151.5   41.3       58.5\n",
      "148   38.0   40.3       11.9\n",
      "77   120.5   28.5       14.2\n",
      "158   11.7   36.9       45.2\n",
      "168  215.4   23.6       57.6\n",
      "135   48.3   47.0        8.5\n",
      "181  218.5    5.4       27.4\n",
      "132    8.4   27.2        2.1\n",
      "90   134.3    4.9        9.3\n",
      "93   250.9   36.5       72.3\n",
      "91    28.6    1.5       33.0\n",
      "81   239.8    4.1       36.9\n",
      "28   248.8   27.1       22.9\n",
      "0    230.1   37.8       69.2\n",
      "128  220.3   49.0        3.2\n",
      "57   136.2   19.2       16.6\n",
      "153  171.3   39.7       37.7\n",
      "114   78.2   46.8       34.5\n",
      "120  141.3   26.8       46.2\n",
      "198  283.6   42.0       66.2\n",
      "76    27.5    1.6       20.7\n",
      "109  255.4   26.9        5.5\n",
      "49    66.9   11.7       36.8\n",
      "177  170.2    7.8       35.2\n",
      "..     ...    ...        ...\n",
      "192   17.2    4.1       31.6\n",
      "144   96.2   14.8       38.9\n",
      "123  123.1   34.6       12.4\n",
      "183  287.6   43.0       71.8\n",
      "2     17.2   45.9       69.3\n",
      "53   182.6   46.2       58.7\n",
      "138   43.0   25.9       20.5\n",
      "19   147.3   23.9       19.1\n",
      "33   265.6   20.0        0.3\n",
      "71   109.8   14.3       31.7\n",
      "64   131.1   42.8       28.9\n",
      "150  280.7   13.9       37.0\n",
      "34    95.7    1.4        7.4\n",
      "112  175.7   15.4        2.4\n",
      "7    120.2   19.6       11.6\n",
      "15   195.4   47.7       52.9\n",
      "139  184.9   43.9        1.7\n",
      "26   142.9   29.3       12.6\n",
      "102  280.2   10.1       21.4\n",
      "100  222.4    4.3       49.8\n",
      "172   19.6   20.1       17.0\n",
      "156   93.9   43.5       50.5\n",
      "94   107.4   14.0       10.9\n",
      "73   129.4    5.7       31.3\n",
      "176  248.4   30.2       20.3\n",
      "136   25.6   39.0        9.3\n",
      "154  187.8   21.1        9.5\n",
      "130    0.7   39.6        8.7\n",
      "110  225.8    8.2       56.5\n",
      "143  104.6    5.7       34.4\n",
      "\n",
      "[140 rows x 3 columns]\n",
      "122    11.6\n",
      "13      9.7\n",
      "167    12.2\n",
      "68     18.9\n",
      "60      8.1\n",
      "37     14.7\n",
      "3      18.5\n",
      "148    10.9\n",
      "77     14.2\n",
      "158     7.3\n",
      "168    17.1\n",
      "135    11.6\n",
      "181    12.2\n",
      "132     5.7\n",
      "90     11.2\n",
      "93     22.2\n",
      "91      7.3\n",
      "81     12.3\n",
      "28     18.9\n",
      "0      22.1\n",
      "128    24.7\n",
      "57     13.2\n",
      "153    19.0\n",
      "114    14.6\n",
      "120    15.5\n",
      "198    25.5\n",
      "76      6.9\n",
      "109    19.8\n",
      "49      9.7\n",
      "177    11.7\n",
      "       ... \n",
      "192     5.9\n",
      "144    11.4\n",
      "123    15.2\n",
      "183    26.2\n",
      "2       9.3\n",
      "53     21.2\n",
      "138     9.6\n",
      "19     14.6\n",
      "33     17.4\n",
      "71     12.4\n",
      "64     18.0\n",
      "150    16.1\n",
      "34      9.5\n",
      "112    14.1\n",
      "7      13.2\n",
      "15     22.4\n",
      "139    20.7\n",
      "26     15.0\n",
      "102    14.8\n",
      "100    11.7\n",
      "172     7.6\n",
      "156    15.3\n",
      "94     11.5\n",
      "73     11.0\n",
      "176    20.2\n",
      "136     9.5\n",
      "154    15.6\n",
      "130     1.6\n",
      "110    13.4\n",
      "143    10.4\n",
      "Name: Sales, dtype: float64\n"
     ]
    }
   ],
   "source": [
    "x_train,x_test,y_train,y_test = train_test_split(x,y,test_size=0.3,train_size=0.7)\n",
    "print(x_train)\n",
    "print(y_train)"
   ]
  },
  {
   "cell_type": "code",
   "execution_count": 5,
   "metadata": {
    "collapsed": false
   },
   "outputs": [
    {
     "name": "stdout",
     "output_type": "stream",
     "text": [
      "lasso_model.best_params_：\n",
      " {'alpha': 100.0}\n",
      "lasso_model.grid_scores_ [mean: 0.87331, std: 0.04267, params: {'alpha': 0.001}, mean: 0.87331, std: 0.04267, params: {'alpha': 0.0035938136638046258}, mean: 0.87331, std: 0.04267, params: {'alpha': 0.01291549665014884}, mean: 0.87331, std: 0.04267, params: {'alpha': 0.046415888336127795}, mean: 0.87331, std: 0.04267, params: {'alpha': 0.1668100537200059}, mean: 0.87331, std: 0.04267, params: {'alpha': 0.59948425031894093}, mean: 0.87331, std: 0.04266, params: {'alpha': 2.1544346900318843}, mean: 0.87332, std: 0.04265, params: {'alpha': 7.7426368268112773}, mean: 0.87332, std: 0.04261, params: {'alpha': 27.825594022071257}, mean: 0.87335, std: 0.04247, params: {'alpha': 100.0}]\n",
      "lasso_model.best_score_ 0.873345805432\n",
      "0.915232753209\n",
      "1.98213253677 1.40788228797\n"
     ]
    }
   ],
   "source": [
    "x_train, x_test, y_train, y_test = train_test_split(x, y, random_state=1)\n",
    "#model = Lasso()\n",
    "model = Ridge()\n",
    "alpha_can = np.logspace(-3, 2, 10)\n",
    "lasso_model = GridSearchCV(model, param_grid={'alpha': alpha_can}, cv=8)\n",
    "lasso_model.fit(x_train, y_train)\n",
    "print('lasso_model.best_params_：\\n', lasso_model.best_params_)\n",
    "print('lasso_model.grid_scores_',lasso_model.grid_scores_)\n",
    "print('lasso_model.best_score_',lasso_model.best_score_)\n",
    "y_hat = lasso_model.predict(np.array(x_test))\n",
    "print(lasso_model.score(x_test, y_test))\n",
    "mse = np.average((y_hat - np.array(y_test)) ** 2)  # Mean Squared Error\n",
    "rmse = np.sqrt(mse)  # Root Mean Squared Error\n",
    "print(mse, rmse)"
   ]
  },
  {
   "cell_type": "code",
   "execution_count": 6,
   "metadata": {
    "collapsed": false
   },
   "outputs": [
    {
     "data": {
      "image/png": "[encoded data removed]",
      "text/plain": [
       "<matplotlib.figure.Figure at 0x1c6792b0>"
      ]
     },
     "metadata": {},
     "output_type": "display_data"
    }
   ],
   "source": [
    "t = np.arange(len(x_test))\n",
    "mpl.rcParams['font.sans-serif'] = [u'simHei']\n",
    "mpl.rcParams['axes.unicode_minus'] = False\n",
    "plt.plot(t, y_test, 'r-', linewidth=2, label=u'truth')\n",
    "plt.plot(t, y_hat, 'g-', linewidth=2, label=u'predict')\n",
    "plt.title(u'sales linear regression', fontsize=18)\n",
    "plt.legend(loc='upper right')\n",
    "plt.grid()\n",
    "plt.show()"
   ]
  },
  {
   "cell_type": "code",
   "execution_count": 7,
   "metadata": {
    "collapsed": false
   },
   "outputs": [
    {
     "name": "stdout",
     "output_type": "stream",
     "text": [
      "LinearRegression(copy_X=True, fit_intercept=True, n_jobs=1, normalize=True)\n",
      "[ 0.04656457  0.17915812  0.00345046]\n",
      "2.87696662232\n",
      "1.97304562023 1.40465142303\n"
     ]
    },
    {
     "data": {
      "image/png": "[encoded data removed]",
      "text/plain": [
       "<matplotlib.figure.Figure at 0x1c423a20>"
      ]
     },
     "metadata": {},
     "output_type": "display_data"
    }
   ],
   "source": [
    "linreg = LinearRegression(normalize=True)\n",
    "model = linreg.fit(x_train, y_train)\n",
    "print(model)\n",
    "print(linreg.coef_)\n",
    "print(linreg.intercept_)\n",
    "\n",
    "y_hat = linreg.predict(np.array(x_test))\n",
    "mse = np.average((y_hat - np.array(y_test)) ** 2)  # Mean Squared Error\n",
    "rmse = np.sqrt(mse)  # Root Mean Squared Error\n",
    "print(mse, rmse)\n",
    "\n",
    "t = np.arange(len(x_test))\n",
    "plt.plot(t, y_test, 'r-', linewidth=2, label=u'truth')\n",
    "plt.plot(t, y_hat, 'g-', linewidth=2, label=u'predict')\n",
    "plt.legend(loc='upper right')\n",
    "plt.title(u'sales linear rgression', fontsize=18)\n",
    "plt.grid()\n",
    "plt.show()"
   ]
  },
  {
   "cell_type": "code",
   "execution_count": 8,
   "metadata": {
    "collapsed": false
   },
   "outputs": [
    {
     "name": "stdout",
     "output_type": "stream",
     "text": [
      "[ 0.04638068  0.17116219  0.00112028]\n",
      "3.15746392628\n",
      "mse of Linear Regresion+Lasso squares is 2.057131156196921\n",
      "accuracy of Linear regression is 0.912025386213\n"
     ]
    }
   ],
   "source": [
    "lasso_cv = LassoCV(alphas=alpha_can,cv=8)\n",
    "lasso_cv.fit(x_train,y_train)\n",
    "print(lasso_cv.coef_)\n",
    "print(lasso_cv.intercept_)\n",
    "y_cv = lasso_cv.predict(np.array(x_test))\n",
    "print(\"mse of Linear Regresion+Lasso squares is\", np. mean(( y_cv - y_test ) ** 2))  \n",
    "print(\"accuracy of Linear regression is\",lasso_cv.score(x_test,y_test))"
   ]
  },
  {
   "cell_type": "code",
   "execution_count": 9,
   "metadata": {
    "collapsed": false
   },
   "outputs": [
    {
     "name": "stdout",
     "output_type": "stream",
     "text": [
      "参数theta [ 0.0465626   0.17853158  0.0036319 ]\n",
      "2.88635119155\n",
      "mse of Linear Regresion+Lasso squares is 1.98213253677463\n",
      "accuracy of Linear regression is 0.915232753209\n"
     ]
    }
   ],
   "source": [
    "ridge_cv = RidgeCV(alphas=alpha_can,cv=8)\n",
    "ridge_cv.fit(x_train,y_train)\n",
    "print(\"参数theta\",ridge_cv.coef_)\n",
    "print(ridge_cv.intercept_)\n",
    "y_cv = ridge_cv.predict(np.array(x_test))\n",
    "print(\"mse of Linear Regresion+Lasso squares is\", np. mean(( y_cv - y_test ) ** 2))  \n",
    "print(\"accuracy of Linear regression is\",ridge_cv.score(x_test,y_test))"
   ]
  },
  {
   "cell_type": "code",
   "execution_count": null,
   "metadata": {
    "collapsed": true
   },
   "outputs": [],
   "source": []
  }
 ],
 "metadata": {
  "kernelspec": {
   "display_name": "Python 3",
   "language": "python",
   "name": "python3"
  },
  "language_info": {
   "codemirror_mode": {
    "name": "ipython",
    "version": 3
   },
   "file_extension": ".py",
   "mimetype": "text/x-python",
   "name": "python",
   "nbconvert_exporter": "python",
   "pygments_lexer": "ipython3",
   "version": "3.5.1"
  }
 },
 "nbformat": 4,
 "nbformat_minor": 0
}
