{
 "cells": [
  {
   "cell_type": "markdown",
   "metadata": {},
   "source": [
    "# LDA模型应用：希拉里邮件主题分析"
   ]
  },
  {
   "cell_type": "code",
   "execution_count": 1,
   "metadata": {
    "collapsed": true
   },
   "outputs": [],
   "source": [
    "# coding:utf-8\n",
    "import numpy as np\n",
    "import pandas as pd\n",
    "import re"
   ]
  },
  {
   "cell_type": "code",
   "execution_count": 2,
   "metadata": {},
   "outputs": [],
   "source": [
    "df = pd.read_csv(\"HillaryEmails.csv\")\n",
    "# 原邮件数据中有很多Nan的值，直接扔掉。\n",
    "df = df[['Id','ExtractedBodyText']].dropna() "
   ]
  },
  {
   "cell_type": "markdown",
   "metadata": {},
   "source": [
    "### 文本预处理：\n",
    "\n",
    "针对邮件内容，写一组正则表达式："
   ]
  },
  {
   "cell_type": "code",
   "execution_count": 3,
   "metadata": {
    "collapsed": true
   },
   "outputs": [],
   "source": [
    "def clean_email_text(text):\n",
    "    text = text.replace('\\n',\" \") #去掉新行\n",
    "    text = re.sub(r\"-\", \" \", text) #把 \"-\" 的两个单词，分开。\n",
    "    text = re.sub(r\"\\d+/\\d+/\\d+\", \"\", text) #日期，对主体模型没什么意义\n",
    "    text = re.sub(r\"[0-2]?[0-9]:[0-6][0-9]\", \"\", text) #时间，没意义\n",
    "    text = re.sub(r\"[\\w]+@[\\.\\w]+\", \"\", text) #邮件地址，没意义\n",
    "    text = re.sub(r\"/[a-zA-Z]*[:\\//\\]*[A-Za-z0-9\\-_]+\\.+[A-Za-z0-9\\.\\/%&=\\?\\-_]+/i\", \"\", text) #网址，没意义\n",
    "    pure_text = ''\n",
    "    # 以防还有其他特殊字符（数字）等等，过滤掉\n",
    "    for letter in text:\n",
    "        # 只留下字母和空格\n",
    "        if letter.isalpha() or letter==' ':\n",
    "            pure_text += letter\n",
    "    # 再把那些去除特殊字符后落单的单词，直接排除。\n",
    "    # 我们就只剩下有意义的单词了。\n",
    "    text = ' '.join(word for word in pure_text.split() if len(word)>1)\n",
    "    return text"
   ]
  },
  {
   "cell_type": "code",
   "execution_count": 4,
   "metadata": {},
   "outputs": [],
   "source": [
    "docs = df['ExtractedBodyText']\n",
    "docs = docs.apply(lambda s: clean_email_text(s))  "
   ]
  },
  {
   "cell_type": "code",
   "execution_count": 5,
   "metadata": {},
   "outputs": [
    {
     "data": {
      "text/plain": [
       "array([ 'Thursday March PM Latest How Syria is aiding Qaddafi and more Sid hrc memo syria aiding libya docx hrc memo syria aiding libya docx March For Hillary'], dtype=object)"
      ]
     },
     "execution_count": 5,
     "metadata": {},
     "output_type": "execute_result"
    }
   ],
   "source": [
    "docs.head(1).values"
   ]
  },
  {
   "cell_type": "markdown",
   "metadata": {},
   "source": [
    "把所有的邮件内容拿出来。"
   ]
  },
  {
   "cell_type": "code",
   "execution_count": 6,
   "metadata": {
    "collapsed": true
   },
   "outputs": [],
   "source": [
    "doclist = docs.values"
   ]
  },
  {
   "cell_type": "markdown",
   "metadata": {},
   "source": [
    "### LDA模型构建：\n",
    "\n",
    "用Gensim进行模型构建\n",
    "\n",
    "首先，将文本数据\n",
    "```\n",
    "[[一条邮件字符串]，[另一条邮件字符串], ...]\n",
    "```\n",
    "\n",
    "转化成Gensim认可的语料库形式：\n",
    "\n",
    "```\n",
    "[[一，条，邮件，在，这里],[第，二，条，邮件，在，这里],[今天，天气，肿么，样],...]\n",
    "```\n",
    "\n",
    "引入库："
   ]
  },
  {
   "cell_type": "code",
   "execution_count": 7,
   "metadata": {},
   "outputs": [],
   "source": [
    "from gensim import corpora, models, similarities\n",
    "import gensim"
   ]
  },
  {
   "cell_type": "markdown",
   "metadata": {},
   "source": [
    "### 可以使用nltk的stopwords，这里手写一个"
   ]
  },
  {
   "cell_type": "code",
   "execution_count": 8,
   "metadata": {
    "collapsed": true
   },
   "outputs": [],
   "source": [
    "stoplist = ['very', 'ourselves', 'am', 'doesn', 'through', 'me', 'against', 'up', 'just', 'her', 'ours', \n",
    "            'couldn', 'because', 'is', 'isn', 'it', 'only', 'in', 'such', 'too', 'mustn', 'under', 'their', \n",
    "            'if', 'to', 'my', 'himself', 'after', 'why', 'while', 'can', 'each', 'itself', 'his', 'all', 'once', \n",
    "            'herself', 'more', 'our', 'they', 'hasn', 'on', 'ma', 'them', 'its', 'where', 'did', 'll', 'you', \n",
    "            'didn', 'nor', 'as', 'now', 'before', 'those', 'yours', 'from', 'who', 'was', 'm', 'been', 'will', \n",
    "            'into', 'same', 'how', 'some', 'of', 'out', 'with', 's', 'being', 't', 'mightn', 'she', 'again', 'be', \n",
    "            'by', 'shan', 'have', 'yourselves', 'needn', 'and', 'are', 'o', 'these', 'further', 'most', 'yourself', \n",
    "            'having', 'aren', 'here', 'he', 'were', 'but', 'this', 'myself', 'own', 'we', 'so', 'i', 'does', 'both', \n",
    "            'when', 'between', 'd', 'had', 'the', 'y', 'has', 'down', 'off', 'than', 'haven', 'whom', 'wouldn', \n",
    "            'should', 've', 'over', 'themselves', 'few', 'then', 'hadn', 'what', 'until', 'won', 'no', 'about', \n",
    "            'any', 'that', 'for', 'shouldn', 'don', 'do', 'there', 'doing', 'an', 'or', 'ain', 'hers', 'wasn', \n",
    "            'weren', 'above', 'a', 'at', 'your', 'theirs', 'below', 'other', 'not', 're', 'him', 'during', 'which']"
   ]
  },
  {
   "cell_type": "markdown",
   "metadata": {},
   "source": [
    "人工分词：\n",
    "\n",
    "英文的分词，对着空白处分割就可以了。\n",
    "\n",
    "中文的分词可以使用CoreNLP, HaNLP, 结巴分词，等等\n",
    "\n"
   ]
  },
  {
   "cell_type": "code",
   "execution_count": 9,
   "metadata": {
    "collapsed": true
   },
   "outputs": [],
   "source": [
    "texts = [[word for word in doc.lower().split() if word not in stoplist] for doc in doclist]"
   ]
  },
  {
   "cell_type": "code",
   "execution_count": 10,
   "metadata": {},
   "outputs": [
    {
     "data": {
      "text/plain": [
       "['thursday',\n",
       " 'march',\n",
       " 'pm',\n",
       " 'latest',\n",
       " 'syria',\n",
       " 'aiding',\n",
       " 'qaddafi',\n",
       " 'sid',\n",
       " 'hrc',\n",
       " 'memo',\n",
       " 'syria',\n",
       " 'aiding',\n",
       " 'libya',\n",
       " 'docx',\n",
       " 'hrc',\n",
       " 'memo',\n",
       " 'syria',\n",
       " 'aiding',\n",
       " 'libya',\n",
       " 'docx',\n",
       " 'march',\n",
       " 'hillary']"
      ]
     },
     "execution_count": 10,
     "metadata": {},
     "output_type": "execute_result"
    }
   ],
   "source": [
    "texts[0] #一封邮件分词后的结果"
   ]
  },
  {
   "cell_type": "markdown",
   "metadata": {},
   "source": [
    "### 建立语料库\n",
    "\n",
    "用词袋的方法，把每个单词用一个数字tokenize 标记，并把原文本变成一个向量："
   ]
  },
  {
   "cell_type": "code",
   "execution_count": 11,
   "metadata": {
    "collapsed": true
   },
   "outputs": [],
   "source": [
    "dictionary = corpora.Dictionary(texts)\n",
    "corpus = [dictionary.doc2bow(text) for text in texts]"
   ]
  },
  {
   "cell_type": "code",
   "execution_count": 12,
   "metadata": {},
   "outputs": [
    {
     "data": {
      "text/plain": [
       "[(34, 1), (505, 1), (506, 1), (507, 1), (508, 1)]"
      ]
     },
     "execution_count": 12,
     "metadata": {},
     "output_type": "execute_result"
    }
   ],
   "source": [
    "corpus[13] #第14封邮件中，一共6个有意义的单词（经过文本预处理，并去除了停止词后）其中，36号单词出现1次，505号单词出现1次"
   ]
  },
  {
   "cell_type": "markdown",
   "metadata": {},
   "source": [
    "### 建立模型"
   ]
  },
  {
   "cell_type": "code",
   "execution_count": 13,
   "metadata": {
    "collapsed": true
   },
   "outputs": [],
   "source": [
    "lda = gensim.models.ldamodel.LdaModel(corpus=corpus, id2word=dictionary, num_topics=20)"
   ]
  },
  {
   "cell_type": "code",
   "execution_count": 14,
   "metadata": {},
   "outputs": [
    {
     "data": {
      "text/plain": [
       "'0.020*\"senate\" + 0.012*\"nuclear\" + 0.010*\"missile\" + 0.008*\"us\" + 0.008*\"pm\"'"
      ]
     },
     "execution_count": 14,
     "metadata": {},
     "output_type": "execute_result"
    }
   ],
   "source": [
    "lda.print_topic(10, topn=5) #第10号分类，最常出现的top 5单词"
   ]
  },
  {
   "cell_type": "code",
   "execution_count": 15,
   "metadata": {},
   "outputs": [
    {
     "data": {
      "text/plain": [
       "[(0, '0.020*\"call\" + 0.016*\"ok\" + 0.014*\"pls\" + 0.013*\"thx\" + 0.013*\"see\"'),\n",
       " (1,\n",
       "  '0.013*\"pm\" + 0.010*\"huma\" + 0.010*\"sullivan\" + 0.009*\"monday\" + 0.009*\"fw\"'),\n",
       " (2,\n",
       "  '0.006*\"obama\" + 0.005*\"clips\" + 0.005*\"strategic\" + 0.005*\"israel\" + 0.004*\"would\"'),\n",
       " (3,\n",
       "  '0.013*\"bloomberg\" + 0.010*\"call\" + 0.009*\"kurdistan\" + 0.007*\"dont\" + 0.007*\"got\"'),\n",
       " (4,\n",
       "  '0.007*\"us\" + 0.006*\"security\" + 0.006*\"state\" + 0.006*\"cheryl\" + 0.005*\"international\"'),\n",
       " (5, '0.010*\"fyi\" + 0.008*\"mr\" + 0.007*\"said\" + 0.005*\"us\" + 0.005*\"new\"'),\n",
       " (6,\n",
       "  '0.010*\"message\" + 0.008*\"please\" + 0.008*\"china\" + 0.006*\"chinese\" + 0.005*\"email\"'),\n",
       " (7,\n",
       "  '0.012*\"assistant\" + 0.011*\"secretary\" + 0.011*\"lona\" + 0.011*\"state\" + 0.009*\"call\"'),\n",
       " (8,\n",
       "  '0.007*\"us\" + 0.005*\"work\" + 0.004*\"also\" + 0.004*\"would\" + 0.004*\"well\"'),\n",
       " (9,\n",
       "  '0.008*\"mtg\" + 0.006*\"negotiating\" + 0.006*\"call\" + 0.005*\"book\" + 0.005*\"bill\"'),\n",
       " (10,\n",
       "  '0.020*\"senate\" + 0.012*\"nuclear\" + 0.010*\"missile\" + 0.008*\"us\" + 0.008*\"pm\"'),\n",
       " (11,\n",
       "  '0.017*\"pm\" + 0.012*\"office\" + 0.009*\"time\" + 0.009*\"state\" + 0.008*\"meeting\"'),\n",
       " (12,\n",
       "  '0.028*\"israeli\" + 0.014*\"palestinian\" + 0.013*\"part\" + 0.011*\"settlements\" + 0.010*\"release\"'),\n",
       " (13,\n",
       "  '0.011*\"percent\" + 0.006*\"obama\" + 0.006*\"republicans\" + 0.005*\"said\" + 0.005*\"democrats\"'),\n",
       " (14,\n",
       "  '0.012*\"party\" + 0.008*\"would\" + 0.006*\"one\" + 0.005*\"company\" + 0.004*\"new\"'),\n",
       " (15,\n",
       "  '0.021*\"print\" + 0.016*\"pls\" + 0.007*\"prefer\" + 0.007*\"pis\" + 0.005*\"district\"'),\n",
       " (16,\n",
       "  '0.010*\"us\" + 0.008*\"un\" + 0.006*\"state\" + 0.006*\"would\" + 0.005*\"people\"'),\n",
       " (17,\n",
       "  '0.007*\"new\" + 0.007*\"would\" + 0.006*\"us\" + 0.005*\"one\" + 0.005*\"obama\"'),\n",
       " (18,\n",
       "  '0.013*\"hikers\" + 0.009*\"get\" + 0.005*\"kurdish\" + 0.005*\"bauer\" + 0.005*\"know\"'),\n",
       " (19,\n",
       "  '0.077*\"pm\" + 0.032*\"office\" + 0.028*\"secretarys\" + 0.020*\"meeting\" + 0.020*\"room\"')]"
      ]
     },
     "execution_count": 15,
     "metadata": {},
     "output_type": "execute_result"
    }
   ],
   "source": [
    "lda.print_topics(num_topics=20, num_words=5) #打印所有主题"
   ]
  }
 ],
 "metadata": {
  "kernelspec": {
   "display_name": "Python 3",
   "language": "python",
   "name": "python3"
  },
  "language_info": {
   "codemirror_mode": {
    "name": "ipython",
    "version": 3
   },
   "file_extension": ".py",
   "mimetype": "text/x-python",
   "name": "python",
   "nbconvert_exporter": "python",
   "pygments_lexer": "ipython3",
   "version": "3.6.3"
  }
 },
 "nbformat": 4,
 "nbformat_minor": 1
}
